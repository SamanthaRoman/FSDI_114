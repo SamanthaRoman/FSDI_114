{
 "cells": [
  {
   "cell_type": "code",
   "execution_count": 2,
   "id": "1e1369ab-c1cf-40f5-a5e9-b7e3685afc6f",
   "metadata": {},
   "outputs": [
    {
     "ename": "SyntaxError",
     "evalue": "invalid syntax (3385140696.py, line 51)",
     "output_type": "error",
     "traceback": [
      "\u001b[0;36m  Cell \u001b[0;32mIn[2], line 51\u001b[0;36m\u001b[0m\n\u001b[0;31m    prev.next =\u001b[0m\n\u001b[0m                ^\u001b[0m\n\u001b[0;31mSyntaxError\u001b[0m\u001b[0;31m:\u001b[0m invalid syntax\n"
     ]
    }
   ],
   "source": [
    "# Doubly Linked Lists \n",
    "\n",
    "class DoublyLinkedList:\n",
    "    class __Node:\n",
    "        def __init__(self,data):\n",
    "            self.data = data\n",
    "            self.next = None\n",
    "            self.prev = None\n",
    "\n",
    "    def __init__(self):\n",
    "        self.head = None\n",
    "\n",
    "    def append(self, value):                  # creating new node\n",
    "        new_node = self.__Node(value) \n",
    "        if not head:                          # If no new node \n",
    "            self.head = new_node    \n",
    "        else:\n",
    "            current = self.head      \n",
    "            while current.next:\n",
    "                current = current.next\n",
    "                new_node.prev = current\n",
    "\n",
    "    def __str__(self):\n",
    "        # This should print our DoublyLinkedList class exactly how python prints built-in lists\n",
    "        result = \"[\"\n",
    "        current = self.head\n",
    "        while current:\n",
    "            result += \"%s\" % current.data\n",
    "            current = current.next\n",
    "        result =+ \"]\"\n",
    "        return result\n",
    "\n",
    "    def insert(self, index, value):\n",
    "        # This should insert a new node with \"value\" BEFORE the target index\n",
    "        new_node = self.Node(value)\n",
    "        if not self.head:\n",
    "            self.head = new_node\n",
    "        else:\n",
    "            if index == 0:\n",
    "                old_head = new_node\n",
    "                new_node.next = old_head\n",
    "            else:\n",
    "                prev = None\n",
    "                current = self.head\n",
    "                count = 0 \n",
    "                while count != index and current.next:\n",
    "                    prev = current\n",
    "                    current = current.next\n",
    "                    count =+ 1 \n",
    "                if count == index:\n",
    "                    prev.next = new_node\n",
    "                    new_node.next = current\n",
    "                else:\n",
    "                    current.next = new_node\n",
    "\n",
    "    def remove(self, value):\n",
    "        # Removes the first instance of \"value\" from the list\n",
    "        #Raises ValueError i the value is not present\n",
    "        pass\n",
    "\n",
    "    "
   ]
  },
  {
   "cell_type": "code",
   "execution_count": 3,
   "id": "bcb87d6f-b075-49b1-b73c-697530b11d64",
   "metadata": {},
   "outputs": [
    {
     "data": {
      "text/plain": [
       "120"
      ]
     },
     "execution_count": 3,
     "metadata": {},
     "output_type": "execute_result"
    }
   ],
   "source": [
    "# Recursive Functions\n",
    "\n",
    "# 5! = 5x4x3x2x1\n",
    "\n",
    "# 0! = 1 <--- a base case that we know is absolutly true\n",
    "\n",
    "# 5! = 5x4!\n",
    "\n",
    "# 4! = 4x3!\n",
    "\n",
    "# A recursive function is one that calls itself at least once\n",
    "# 1. A base case or exist condition\n",
    "# 2. A recursive cas or condition where the fucntion calls itslef\n",
    "\n",
    "# factorial function as a recursive function:\n",
    "\n",
    "def fact(n):\n",
    "    if n == 0:\n",
    "        return 1\n",
    "    return n*fact(n-1)\n",
    "\n",
    "fact(5)"
   ]
  },
  {
   "cell_type": "code",
   "execution_count": 6,
   "id": "b2efdbe8-ef56-4308-ab25-cd7679d02172",
   "metadata": {},
   "outputs": [
    {
     "data": {
      "text/plain": [
       "21"
      ]
     },
     "execution_count": 6,
     "metadata": {},
     "output_type": "execute_result"
    }
   ],
   "source": [
    "# Fibonacci\n",
    "\n",
    "# F0 = 0 \n",
    "# F1 = 1\n",
    "\n",
    "# Fn = Fn-1 + Fn-2\n",
    "\n",
    "# 0, 1, 1, 2, 3, 5, 8, 13   (you add the two preceding numbers)\n",
    "\n",
    "# What is fibanocci of 20\n",
    "\n",
    "# Simple implementation of HashTable using built-ins (lru_cache)\n",
    "from functools import lru_cache\n",
    "\n",
    "@lru_cache\n",
    "def fib(n):\n",
    "    if n < 2:\n",
    "        return n\n",
    "    return fib(n-1) + fib(n-2)\n",
    "fib(8)\n"
   ]
  },
  {
   "cell_type": "code",
   "execution_count": 7,
   "id": "3c52b19a-a44b-4d45-837c-1ae35fa6be73",
   "metadata": {},
   "outputs": [],
   "source": [
    "# Use a built-in dictionary to imporve the performance of the fibonacci function\n",
    "\n",
    "# mynewdictionary = {}\n",
    "# mynewdictionary = dict()\n",
    "\n",
    "# Recieve a parameter N\n",
    "# IF the parameter N matches a key in your dictionary, return the value associated with that key\n",
    "# IF NOT call the fibonacci function on N, and stor the result before returning it to the caller\n",
    "\n",
    "def fib2(n):\n",
    "    mynewdictionary = {}\n",
    "    if n in mynewdictionary:\n",
    "        return mynewdictionary[n]\n",
    "    if n < 2:\n",
    "        return n\n",
    "    mynewdictionary[n] = fib(n-1) + fib(n-2)\n",
    "    \n",
    "    "
   ]
  },
  {
   "cell_type": "code",
   "execution_count": 11,
   "id": "93acb016-dac0-44a0-a4fc-d02a8d2a2d64",
   "metadata": {},
   "outputs": [],
   "source": [
    "# Balanced Parentheses check\n",
    "# Given a string as a parameter to your function, consisting solely of the characters in the set {\"(\",\")\",\"{\",\"}\",\"[\",\"]\"}, determine if the stirng is balanced.\n",
    "\n",
    "# Criteria\n",
    "# A string is balanced when parentheses (or brackets) are closed in the same order they were opened. \n",
    "\n",
    "# ```\n",
    "# Examples:\n",
    "# Balanced:\n",
    "# ((({{{{}}}})))\n",
    "# (((()()()())))\n",
    "# ()()()[[[[]]]]\n",
    "# ```\n",
    "\n",
    "# your funciton should return True if the string is balanced, False otherwise"
   ]
  },
  {
   "cell_type": "code",
   "execution_count": null,
   "id": "7ebcc4c9-863f-4614-90aa-3e92477aa5f5",
   "metadata": {},
   "outputs": [],
   "source": []
  }
 ],
 "metadata": {
  "kernelspec": {
   "display_name": "Python 3 (ipykernel)",
   "language": "python",
   "name": "python3"
  },
  "language_info": {
   "codemirror_mode": {
    "name": "ipython",
    "version": 3
   },
   "file_extension": ".py",
   "mimetype": "text/x-python",
   "name": "python",
   "nbconvert_exporter": "python",
   "pygments_lexer": "ipython3",
   "version": "3.12.0"
  }
 },
 "nbformat": 4,
 "nbformat_minor": 5
}
