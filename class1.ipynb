{
 "cells": [
  {
   "cell_type": "code",
   "execution_count": 1,
   "id": "a870b6e0-d761-40ab-a8e4-60929b7c2d65",
   "metadata": {},
   "outputs": [
    {
     "name": "stdout",
     "output_type": "stream",
     "text": [
      "h\n",
      "e\n",
      "l\n",
      "l\n",
      "o\n",
      ",\n",
      " \n",
      "w\n",
      "o\n",
      "r\n",
      "l\n",
      "d\n",
      "!\n"
     ]
    }
   ],
   "source": [
    "for char in \"hello, world!\":\n",
    "    print(char)\n",
    "\n"
   ]
  },
  {
   "cell_type": "code",
   "execution_count": 3,
   "id": "c641eb2b-9b86-463b-bbfa-305c6f4063be",
   "metadata": {},
   "outputs": [],
   "source": [
    "# Don't do this:\n",
    "\n",
    "def anagram_check(str1, str2):\n",
    "    return sorted(str1) == sorted(str2)\n",
    "    "
   ]
  },
  {
   "cell_type": "code",
   "execution_count": 4,
   "id": "2288d57f-4d65-43f7-a12a-22d3a283b8ce",
   "metadata": {},
   "outputs": [],
   "source": [
    "# define anagram_check with parameters: str1 and str2:\n",
    "#     str1 = str1 in lowercase without spaces\n",
    "#     str2 = str2 in lowercase without spaces\n",
    "#     if the length of str1 is NOT equal to the length of str2:\n",
    "#              return False  (50% of the answer) \n",
    "#     beyond this point it is safe to assume that the length of str1 is equal to the length of str2\n",
    "#     dict 1 = new dict\n",
    "#     dict 2 = new dict\n",
    "#     for each number in the range 0 to the length of str1:\n",
    "#         if the letter at position \"number\" of str1 is in dict1: (means we have seen it at least one time)\n",
    "#              add 1 to the value associated with letter in dict1\n",
    "#         otherwise:\n",
    "#              create a new key in dict 1 with \"letter\"\n",
    "#              give that key a value of 1 (because we've seen it once)\n",
    "# Now do the same thing for string 2\n",
    "\n",
    "#         if the letter at position \"number\" of str2 is in dict1: (means we have seen it at least one time)\n",
    "#              add 1 to the value associated with letter in dict1\n",
    "#         otherwise:\n",
    "#              create a new key in dict 2 with \"letter\"\n",
    "#              give that key a value of 1 (because we've seen it once)\n",
    "#        End of loop\n",
    "#       if dict1 is equal to dic2:\n",
    "#         return True\n",
    "#       otherwise:\n",
    "#         return False"
   ]
  },
  {
   "cell_type": "code",
   "execution_count": null,
   "id": "2475d21f-5ee3-48ca-9177-012c53e4bf2a",
   "metadata": {},
   "outputs": [],
   "source": [
    "def anagram_check(str1, str2):\n",
    "    str1 = str1.lower().replace(\" \", \"\")\n",
    "    str2 = str2.lower().replace(\" \", \"\")\n",
    "\n",
    "    if str1.length() != str2.length():\n",
    "    return False\n",
    "\n",
    "    seen_chars_str1 = {}\n",
    "    seen_chars_str2 = \n",
    "\n",
    "    for index in range(len(str1)):\n",
    "        letter = str1[index]\n",
    "        if letter in seen_chars_str1.keys():\n",
    "            seen_chars_str1[letter]"
   ]
  }
 ],
 "metadata": {
  "kernelspec": {
   "display_name": "Python 3 (ipykernel)",
   "language": "python",
   "name": "python3"
  },
  "language_info": {
   "codemirror_mode": {
    "name": "ipython",
    "version": 3
   },
   "file_extension": ".py",
   "mimetype": "text/x-python",
   "name": "python",
   "nbconvert_exporter": "python",
   "pygments_lexer": "ipython3",
   "version": "3.12.0"
  }
 },
 "nbformat": 4,
 "nbformat_minor": 5
}
