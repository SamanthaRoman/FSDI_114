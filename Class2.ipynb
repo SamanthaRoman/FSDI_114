{
 "cells": [
  {
   "cell_type": "code",
   "execution_count": 2,
   "id": "1c51a89d-9cd7-4593-8174-b7f42b30d99c",
   "metadata": {},
   "outputs": [],
   "source": [
    "# Simplified impolementation of Stacks (using built-in data structures)\n",
    "\n",
    "class Stack:\n",
    "    def __init__ (self):\n",
    "        # Our stack class internally relies on the built-in data structure \"list\":\n",
    "        self.items = []\n",
    "\n",
    "    def push(self, value):\n",
    "        self.items.append(value) \n",
    "\n",
    "    def pop(self):\n",
    "        return self.items.pop()\n",
    "\n",
    "    # nice to have methods\n",
    "    def peek(self):\n",
    "        return self.items[len(self.items)-1]\n",
    "\n",
    "    def size(self):\n",
    "        return len(self.items)\n",
    "\n",
    "    def is_empty(self):\n",
    "        return self.items == []"
   ]
  },
  {
   "cell_type": "code",
   "execution_count": 4,
   "id": "8178e10f-7c73-4802-b785-ca3906cfc277",
   "metadata": {},
   "outputs": [
    {
     "data": {
      "text/plain": [
       "'leafaR'"
      ]
     },
     "execution_count": 4,
     "metadata": {},
     "output_type": "execute_result"
    }
   ],
   "source": [
    "# Create a function that inverts a string using our Stack class (above)\n",
    "\n",
    "def invert_str(mystring):\n",
    "    stack = Stack()\n",
    "    for char in mystring:\n",
    "        stack.push(char)\n",
    "    out = \"\"\n",
    "    while not stack.is_empty():  # short hand for while stack.is_empty() != True\n",
    "        out += stack.pop()\n",
    "    return out\n",
    "\n",
    "invert_str(\"Rafael\")"
   ]
  },
  {
   "cell_type": "code",
   "execution_count": 5,
   "id": "b0992f91-0224-446c-9a67-83f5a26ae3b6",
   "metadata": {},
   "outputs": [
    {
     "ename": "SyntaxError",
     "evalue": "invalid syntax (1365282586.py, line 3)",
     "output_type": "error",
     "traceback": [
      "\u001b[0;36m  Cell \u001b[0;32mIn[5], line 3\u001b[0;36m\u001b[0m\n\u001b[0;31m    my emptystr = \"A\"\u001b[0m\n\u001b[0m       ^\u001b[0m\n\u001b[0;31mSyntaxError\u001b[0m\u001b[0;31m:\u001b[0m invalid syntax\n"
     ]
    }
   ],
   "source": [
    "# small detour \n",
    "\n",
    "my emptystr = \"A\"\n",
    "count = 0\n",
    "\n",
    "# These two if statements are equivalant:\n",
    "if myemptystr:\n",
    "    print(\"something\")\n",
    "\n",
    "if myemptystr != None:\n",
    "    print(\"something\")\n",
    "\n",
    "# These two while statements are equivalent\n",
    "while myemptystr:\n",
    "    print(\"something\")\n",
    "    myemptystr = \"\"\n",
    "\n",
    "myemptystr = \"A\"\n",
    "while myemptystr != \"\"\n",
    "    print(\"something\")\n",
    "    myemptystr = \"\"\n",
    "\n"
   ]
  },
  {
   "cell_type": "code",
   "execution_count": null,
   "id": "e8e2c0ff-cc0f-432f-a102-f1ed093c9b44",
   "metadata": {},
   "outputs": [],
   "source": [
    "# From scratch implementation of Stack (no built-ins)\n",
    "\n",
    "class StackII:\n",
    "    class __Node:\n",
    "        def __init__(self, data):\n",
    "            self.data = data\n",
    "            self.below = None\n",
    "\n",
    "        def __init__(self):\n",
    "            self.top = None\n",
    "\n",
    "        def push(self,value):\n",
    "            new_node = self.__Node(value)\n",
    "            if not self.top:\n",
    "                self.top = new_node\n",
    "            else: \n",
    "                old_top = self.top\n",
    "                self.top = new_node\n",
    "                new_node.below = old_top\n",
    "\n",
    "        def pop(self): # 2 req. must remove and return an element to stack \n",
    "            if not self.top:\n",
    "                raise IndexError(\"stack is empty\")\n",
    "            else:\n",
    "                datum = self.top.data            # creating a local element and storing the retrieve data element on top most node\n",
    "                node_below = self.top.below     # retrieve the data from the next top most node\n",
    "                self.top = node_below           # refrence the second node \n",
    "                \n",
    "                                   # you could combin the two lines of code into one for shorthand: self.top = self.top.below                  \n",
    "                return datum\n",
    "\n",
    "# Mini Challenge\n",
    "\n",
    "        def size(self):\n",
    "            # this should return the number of nodes in our stack\n",
    "            # start by countin the number of nodes. then stor the top node into a variable. \n",
    "            # \n",
    "            count = 0\n",
    "            current = self.top\n",
    "            while current:\n",
    "                count += 1\n",
    "                current = current.below\n",
    "            return count\n",
    "            \n",
    "\n",
    "        def peek(self):\n",
    "            # this should return the data element stored in the topmost node, without removing it\n",
    "            if not self.top:\n",
    "                raise IndexError(\"stack is empty\")\n",
    "            return self.top.data\n",
    "\n",
    "        def is_empty(self):\n",
    "            # this should return True if the stack is empty, False otherwise\n",
    "            if not self.top:\n",
    "                return True\n",
    "            else:\n",
    "                return False\n"
   ]
  }
 ],
 "metadata": {
  "kernelspec": {
   "display_name": "Python 3 (ipykernel)",
   "language": "python",
   "name": "python3"
  },
  "language_info": {
   "codemirror_mode": {
    "name": "ipython",
    "version": 3
   },
   "file_extension": ".py",
   "mimetype": "text/x-python",
   "name": "python",
   "nbconvert_exporter": "python",
   "pygments_lexer": "ipython3",
   "version": "3.12.0"
  }
 },
 "nbformat": 4,
 "nbformat_minor": 5
}
